{
 "cells": [
  {
   "cell_type": "code",
   "execution_count": 8,
   "metadata": {},
   "outputs": [],
   "source": [
    "import matplotlib.pyplot as plt\n",
    "from scipy.integrate import odeint\n",
    "import numpy as np"
   ]
  },
  {
   "cell_type": "code",
   "execution_count": 9,
   "metadata": {},
   "outputs": [],
   "source": [
    "# import historical world population data from 10000 BC to 1950\n",
    "# data from united states census bureau\n",
    "hpop =np.loadtxt(\"historical_population.csv\",delimiter=\";\",skiprows =1)\n",
    "# import modern world population data from 1950 to 2050\n",
    "# data from united states census bureau\n",
    "mpop =np.loadtxt (\"modern_population.csv\", delimiter =\";\", skiprows =1)"
   ]
  },
  {
   "cell_type": "code",
   "execution_count": 10,
   "metadata": {},
   "outputs": [
    {
     "data": {
      "text/plain": [
       "array([[-1.00000000e+04,  1.00000000e+06],\n",
       "       [-8.00000000e+03,  5.00000000e+06],\n",
       "       [-6.50000000e+03,  5.00000000e+06],\n",
       "       [-5.00000000e+03,  5.00000000e+06],\n",
       "       [-4.00000000e+03,  7.00000000e+06],\n",
       "       [-3.00000000e+03,  1.40000000e+07],\n",
       "       [-2.00000000e+03,  2.70000000e+07],\n",
       "       [-1.00000000e+03,  5.00000000e+07],\n",
       "       [-5.00000000e+02,  1.00000000e+08],\n",
       "       [-4.00000000e+02,  1.62000000e+08],\n",
       "       [-2.00000000e+02,  1.50000000e+08],\n",
       "       [ 1.00000000e+00,  1.70000000e+08],\n",
       "       [ 2.00000000e+02,  1.90000000e+08],\n",
       "       [ 4.00000000e+02,  1.90000000e+08],\n",
       "       [ 5.00000000e+02,  1.90000000e+08],\n",
       "       [ 6.00000000e+02,  2.00000000e+08],\n",
       "       [ 7.00000000e+02,  2.07000000e+08],\n",
       "       [ 8.00000000e+02,  2.20000000e+08],\n",
       "       [ 9.00000000e+02,  2.26000000e+08],\n",
       "       [ 1.00000000e+03,  2.54000000e+08],\n",
       "       [ 1.10000000e+03,  3.01000000e+08],\n",
       "       [ 1.20000000e+03,  3.60000000e+08],\n",
       "       [ 1.25000000e+03,  4.00000000e+08],\n",
       "       [ 1.30000000e+03,  3.60000000e+08],\n",
       "       [ 1.34000000e+03,  4.43000000e+08],\n",
       "       [ 1.40000000e+03,  3.50000000e+08],\n",
       "       [ 1.50000000e+03,  4.25000000e+08],\n",
       "       [ 1.60000000e+03,  5.45000000e+08],\n",
       "       [ 1.65000000e+03,  4.70000000e+08],\n",
       "       [ 1.70000000e+03,  6.00000000e+08],\n",
       "       [ 1.75000000e+03,  6.29000000e+08],\n",
       "       [ 1.80000000e+03,  8.13000000e+08],\n",
       "       [ 1.85000000e+03,  1.12800000e+09],\n",
       "       [ 1.90000000e+03,  1.55000000e+09],\n",
       "       [ 1.91000000e+03,  1.75000000e+09],\n",
       "       [ 1.92000000e+03,  1.86000000e+09],\n",
       "       [ 1.93000000e+03,  2.07000000e+09],\n",
       "       [ 1.94000000e+03,  2.30000000e+09],\n",
       "       [ 1.95000000e+03,  2.55762865e+09]])"
      ]
     },
     "execution_count": 10,
     "metadata": {},
     "output_type": "execute_result"
    }
   ],
   "source": [
    "hpop"
   ]
  },
  {
   "cell_type": "code",
   "execution_count": 11,
   "metadata": {},
   "outputs": [
    {
     "data": {
      "text/plain": [
       "array([[1.95000000e+03, 2.55762865e+09, 1.45900000e+00, 3.73102820e+07],\n",
       "       [1.95100000e+03, 2.59493894e+09, 1.61200000e+00, 4.18314500e+07],\n",
       "       [1.95200000e+03, 2.63677039e+09, 1.71700000e+00, 4.52800660e+07],\n",
       "       [1.95300000e+03, 2.68205045e+09, 1.79600000e+00, 4.81736580e+07],\n",
       "       [1.95400000e+03, 2.73022411e+09, 1.90000000e+00, 5.18697410e+07],\n",
       "       [1.95500000e+03, 2.78209385e+09, 1.91200000e+00, 5.31995900e+07],\n",
       "       [1.95600000e+03, 2.83529344e+09, 1.97700000e+00, 5.60488610e+07],\n",
       "       [1.95700000e+03, 2.89134230e+09, 1.96400000e+00, 5.67863030e+07],\n",
       "       [1.95800000e+03, 2.94812860e+09, 1.78300000e+00, 5.25780720e+07],\n",
       "       [1.95900000e+03, 3.00070668e+09, 1.40900000e+00, 4.22835940e+07],\n",
       "       [1.96000000e+03, 3.04299027e+09, 1.34800000e+00, 4.10170150e+07],\n",
       "       [1.96100000e+03, 3.08400729e+09, 1.82200000e+00, 5.61800640e+07],\n",
       "       [1.96200000e+03, 3.14018735e+09, 2.22300000e+00, 6.97914240e+07],\n",
       "       [1.96300000e+03, 3.20997877e+09, 2.22500000e+00, 7.14334830e+07],\n",
       "       [1.96400000e+03, 3.28141226e+09, 2.11200000e+00, 6.92877320e+07],\n",
       "       [1.96500000e+03, 3.35069999e+09, 2.09900000e+00, 7.03156200e+07],\n",
       "       [1.96600000e+03, 3.42101561e+09, 2.03800000e+00, 6.97198460e+07],\n",
       "       [1.96700000e+03, 3.49073546e+09, 2.06400000e+00, 7.20511560e+07],\n",
       "       [1.96800000e+03, 3.56278661e+09, 2.10300000e+00, 7.49213450e+07],\n",
       "       [1.96900000e+03, 3.63770796e+09, 2.07900000e+00, 7.56199420e+07],\n",
       "       [1.97000000e+03, 3.71332790e+09, 2.09100000e+00, 7.76521840e+07],\n",
       "       [1.97100000e+03, 3.79098008e+09, 2.01200000e+00, 7.62621740e+07],\n",
       "       [1.97200000e+03, 3.86724226e+09, 1.95400000e+00, 7.55482640e+07],\n",
       "       [1.97300000e+03, 3.94279052e+09, 1.89000000e+00, 7.45334350e+07],\n",
       "       [1.97400000e+03, 4.01732396e+09, 1.77900000e+00, 7.14869420e+07],\n",
       "       [1.97500000e+03, 4.08881090e+09, 1.71400000e+00, 7.00779390e+07],\n",
       "       [1.97600000e+03, 4.15888884e+09, 1.70400000e+00, 7.08591980e+07],\n",
       "       [1.97700000e+03, 4.22974803e+09, 1.67600000e+00, 7.08831810e+07],\n",
       "       [1.97800000e+03, 4.30063122e+09, 1.71400000e+00, 7.37184630e+07],\n",
       "       [1.97900000e+03, 4.37434968e+09, 1.62500000e+00, 7.10739970e+07],\n",
       "       [1.98000000e+03, 4.44542368e+09, 1.83100000e+00, 8.13942420e+07],\n",
       "       [1.98100000e+03, 4.52681792e+09, 1.77600000e+00, 8.03754360e+07],\n",
       "       [1.98200000e+03, 4.60719335e+09, 1.76700000e+00, 8.13893900e+07],\n",
       "       [1.98300000e+03, 4.68858274e+09, 1.68700000e+00, 7.90864340e+07],\n",
       "       [1.98400000e+03, 4.76766918e+09, 1.72400000e+00, 8.21913720e+07],\n",
       "       [1.98500000e+03, 4.84986055e+09, 1.73900000e+00, 8.43508600e+07],\n",
       "       [1.98600000e+03, 4.93421141e+09, 1.76100000e+00, 8.68736800e+07],\n",
       "       [1.98700000e+03, 5.02108509e+09, 1.74600000e+00, 8.76514640e+07],\n",
       "       [1.98800000e+03, 5.10873655e+09, 1.70800000e+00, 8.72425360e+07],\n",
       "       [1.98900000e+03, 5.19597909e+09, 1.69900000e+00, 8.82729500e+07],\n",
       "       [1.99000000e+03, 5.28425204e+09, 1.57500000e+00, 8.32366230e+07],\n",
       "       [1.99100000e+03, 5.36748866e+09, 1.57800000e+00, 8.46992110e+07],\n",
       "       [1.99200000e+03, 5.45218787e+09, 1.50800000e+00, 8.22301760e+07],\n",
       "       [1.99300000e+03, 5.53441805e+09, 1.44800000e+00, 8.01120490e+07],\n",
       "       [1.99400000e+03, 5.61453010e+09, 1.44800000e+00, 8.12930070e+07],\n",
       "       [1.99500000e+03, 5.69582310e+09, 1.41300000e+00, 8.05046420e+07],\n",
       "       [1.99600000e+03, 5.77632775e+09, 1.35900000e+00, 7.85137530e+07],\n",
       "       [1.99700000e+03, 5.85484150e+09, 1.31800000e+00, 7.71833580e+07],\n",
       "       [1.99800000e+03, 5.93202486e+09, 1.29200000e+00, 7.66217930e+07],\n",
       "       [1.99900000e+03, 6.00864665e+09, 1.26600000e+00, 7.60572280e+07],\n",
       "       [2.00000000e+03, 6.08470388e+09, 1.25200000e+00, 7.61862140e+07],\n",
       "       [2.00100000e+03, 6.16089009e+09, 1.23800000e+00, 7.62640410e+07],\n",
       "       [2.00200000e+03, 6.23715413e+09, 1.23100000e+00, 7.67884360e+07],\n",
       "       [2.00300000e+03, 6.31394257e+09, 1.21500000e+00, 7.66937390e+07],\n",
       "       [2.00400000e+03, 6.39063631e+09, 1.20200000e+00, 7.67951900e+07],\n",
       "       [2.00500000e+03, 6.46743150e+09, 1.20300000e+00, 7.77874940e+07],\n",
       "       [2.00600000e+03, 6.54521899e+09, 1.19600000e+00, 7.83046620e+07],\n",
       "       [2.00700000e+03, 6.62352366e+09, 1.18700000e+00, 7.86357470e+07],\n",
       "       [2.00800000e+03, 6.70215940e+09, 1.17400000e+00, 7.86744790e+07],\n",
       "       [2.00900000e+03, 6.78083388e+09, 1.14700000e+00, 7.77508740e+07],\n",
       "       [2.01000000e+03, 6.85858476e+09, 1.12900000e+00, 7.74147360e+07],\n",
       "       [2.01100000e+03, 6.93599949e+09, 1.12300000e+00, 7.78718220e+07],\n",
       "       [2.01200000e+03, 7.01387131e+09, 1.11600000e+00, 7.82567810e+07],\n",
       "       [2.01300000e+03, 7.09212809e+09, 1.09800000e+00, 7.78400910e+07],\n",
       "       [2.01400000e+03, 7.16996818e+09, 1.08700000e+00, 7.79246030e+07],\n",
       "       [2.01500000e+03, 7.24789279e+09, 1.07800000e+00, 7.81039210e+07],\n",
       "       [2.01600000e+03, 7.32599671e+09, 1.08000000e+00, 7.91109410e+07],\n",
       "       [2.01700000e+03, 7.40510765e+09, 1.05300000e+00, 7.79425670e+07],\n",
       "       [2.01800000e+03, 7.48305022e+09, 1.03100000e+00, 7.71176630e+07],\n",
       "       [2.01900000e+03, 7.56016788e+09, 1.00400000e+00, 7.59161900e+07],\n",
       "       [2.02000000e+03, 7.63608407e+09, 9.76000000e-01, 7.45356000e+07],\n",
       "       [2.02100000e+03, 7.71061967e+09, 9.51000000e-01, 7.33652720e+07],\n",
       "       [2.02200000e+03, 7.78398494e+09, 9.29000000e-01, 7.23142440e+07],\n",
       "       [2.02300000e+03, 7.85629919e+09, 9.06000000e-01, 7.11665540e+07],\n",
       "       [2.02400000e+03, 7.92746574e+09, 8.83000000e-01, 7.00014430e+07],\n",
       "       [2.02500000e+03, 7.99746718e+09, 8.61000000e-01, 6.88972940e+07],\n",
       "       [2.02600000e+03, 8.06636448e+09, 8.40000000e-01, 6.77883740e+07],\n",
       "       [2.02700000e+03, 8.13415285e+09, 8.19000000e-01, 6.66302490e+07],\n",
       "       [2.02800000e+03, 8.20078310e+09, 7.98000000e-01, 6.54601760e+07],\n",
       "       [2.02900000e+03, 8.26624328e+09, 7.78000000e-01, 6.42823450e+07],\n",
       "       [2.03000000e+03, 8.33052562e+09, 7.58000000e-01, 6.31776820e+07],\n",
       "       [2.03100000e+03, 8.39370330e+09, 7.41000000e-01, 6.21578570e+07],\n",
       "       [2.03200000e+03, 8.45586116e+09, 7.23000000e-01, 6.11458150e+07],\n",
       "       [2.03300000e+03, 8.51700698e+09, 7.06000000e-01, 6.01266260e+07],\n",
       "       [2.03400000e+03, 8.57713360e+09, 6.89000000e-01, 5.90883100e+07],\n",
       "       [2.03500000e+03, 8.63622191e+09, 6.73000000e-01, 5.81073540e+07],\n",
       "       [2.03600000e+03, 8.69432926e+09, 6.58000000e-01, 5.71812890e+07],\n",
       "       [2.03700000e+03, 8.75151055e+09, 6.43000000e-01, 5.62349320e+07],\n",
       "       [2.03800000e+03, 8.80774549e+09, 6.27000000e-01, 5.52652320e+07],\n",
       "       [2.03900000e+03, 8.86301072e+09, 6.12000000e-01, 5.42707410e+07],\n",
       "       [2.04000000e+03, 8.91728146e+09, 5.98000000e-01, 5.33107300e+07],\n",
       "       [2.04100000e+03, 8.97059219e+09, 5.84000000e-01, 5.23809150e+07],\n",
       "       [2.04200000e+03, 9.02297310e+09, 5.70000000e-01, 5.14060400e+07],\n",
       "       [2.04300000e+03, 9.07437914e+09, 5.55000000e-01, 5.03827130e+07],\n",
       "       [2.04400000e+03, 9.12476186e+09, 5.40000000e-01, 4.93185450e+07],\n",
       "       [2.04500000e+03, 9.17408040e+09, 5.26000000e-01, 4.82794380e+07],\n",
       "       [2.04600000e+03, 9.22235984e+09, 5.12000000e-01, 4.72596310e+07],\n",
       "       [2.04700000e+03, 9.26961947e+09, 4.98000000e-01, 4.61932730e+07],\n",
       "       [2.04800000e+03, 9.31581274e+09, 4.84000000e-01, 4.50871290e+07],\n",
       "       [2.04900000e+03, 9.36089987e+09, 4.69000000e-01, 4.39483990e+07],\n",
       "       [2.05000000e+03, 9.40484827e+09, 0.00000000e+00, 0.00000000e+00]])"
      ]
     },
     "execution_count": 11,
     "metadata": {},
     "output_type": "execute_result"
    }
   ],
   "source": [
    "mpop"
   ]
  },
  {
   "cell_type": "code",
   "execution_count": 21,
   "metadata": {},
   "outputs": [],
   "source": [
    "y0 = 0.8\n",
    "r = 0.0075\n",
    "t =np.arange (0 ,250)"
   ]
  },
  {
   "cell_type": "code",
   "execution_count": 22,
   "metadata": {},
   "outputs": [],
   "source": [
    "def expgro (y, t):\n",
    "    \"\"\" Exponential growth model \"\"\"\n",
    "    n = y\n",
    "    dndt = r*n\n",
    "    return dndt"
   ]
  },
  {
   "cell_type": "code",
   "execution_count": 23,
   "metadata": {},
   "outputs": [],
   "source": [
    "sol = odeint(expgro,y0,t) # integrate and save results into array"
   ]
  },
  {
   "cell_type": "code",
   "execution_count": 25,
   "metadata": {},
   "outputs": [
    {
     "data": {
      "image/png": "[encoded data removed]",
      "text/plain": [
       "<Figure size 432x288 with 1 Axes>"
      ]
     },
     "metadata": {
      "needs_background": "light"
     },
     "output_type": "display_data"
    }
   ],
   "source": [
    "plt.plot (hpop [:,0] ,hpop [:,1]/1e9 , 'or ', label ='population data',zorder =1)\n",
    "plt.plot (mpop [:,0] ,mpop [:,1]/1e9 , 'or', zorder =1)\n",
    "plt.plot (t + 1800 ,sol [:,0],'-b',label ='model (r =0.75%)',linewidth =2, zorder =2)\n",
    "plt.xlabel ('Time ( years )', fontsize =20)\n",
    "plt.ylabel ('Population', fontsize =20)\n",
    "plt.xlim (1800 ,2050) # plot from 1800 to 2050\n",
    "plt.legend ( loc ='best') # add a legend anywhere in the plot\n",
    "plt.savefig ('ExpGrowth2v.pdf') # save figure as PDf file"
   ]
  },
  {
   "cell_type": "code",
   "execution_count": null,
   "metadata": {},
   "outputs": [],
   "source": []
  }
 ],
 "metadata": {
  "kernelspec": {
   "display_name": "Python 3",
   "language": "python",
   "name": "python3"
  },
  "language_info": {
   "codemirror_mode": {
    "name": "ipython",
    "version": 3
   },
   "file_extension": ".py",
   "mimetype": "text/x-python",
   "name": "python",
   "nbconvert_exporter": "python",
   "pygments_lexer": "ipython3",
   "version": "3.7.0"
  }
 },
 "nbformat": 4,
 "nbformat_minor": 2
}
