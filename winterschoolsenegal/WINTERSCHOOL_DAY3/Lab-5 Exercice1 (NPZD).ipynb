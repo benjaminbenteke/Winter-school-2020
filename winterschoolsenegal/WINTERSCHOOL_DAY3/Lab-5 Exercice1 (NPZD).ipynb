{
 "cells": [
  {
   "cell_type": "markdown",
   "metadata": {},
   "source": [
    "## Importing libraries"
   ]
  },
  {
   "cell_type": "code",
   "execution_count": 1,
   "metadata": {},
   "outputs": [],
   "source": [
    "import matplotlib.pyplot as plt\n",
    "from scipy.integrate import odeint\n",
    "import numpy as np"
   ]
  },
  {
   "cell_type": "markdown",
   "metadata": {},
   "source": [
    "### Nota:\n",
    "Take just 365 days"
   ]
  },
  {
   "cell_type": "markdown",
   "metadata": {},
   "source": [
    "## Exercice 1\n",
    "### Exercice 1.1"
   ]
  },
  {
   "cell_type": "markdown",
   "metadata": {},
   "source": [
    "### Loading data"
   ]
  },
  {
   "cell_type": "code",
   "execution_count": 107,
   "metadata": {},
   "outputs": [],
   "source": [
    "mld=np.loadtxt(\"mld.dat\",delimiter=\" \")"
   ]
  },
  {
   "cell_type": "code",
   "execution_count": 108,
   "metadata": {},
   "outputs": [
    {
     "data": {
      "text/plain": [
       "array([[  0.        ,   1.        ,   2.        ,   3.        ,\n",
       "          4.        ,   5.        ,   6.        ,   7.        ,\n",
       "          8.        ,   9.        ,  10.        ,  11.        ,\n",
       "         12.        ,  13.        ,  14.        ,  15.        ,\n",
       "         16.        ,  17.        ,  18.        ,  19.        ,\n",
       "         20.        ,  21.        ,  22.        ,  23.        ,\n",
       "         24.        ,  25.        ,  26.        ,  27.        ,\n",
       "         28.        ,  29.        ,  30.        ,  31.        ,\n",
       "         32.        ,  33.        ,  34.        ,  35.        ,\n",
       "         36.        ,  37.        ,  38.        ,  39.        ,\n",
       "         40.        ,  41.        ,  42.        ,  43.        ,\n",
       "         44.        ,  45.        ,  46.        ,  47.        ,\n",
       "         48.        ,  49.        ,  50.        ,  51.        ,\n",
       "         52.        ,  53.        ,  54.        ,  55.        ,\n",
       "         56.        ,  57.        ,  58.        ,  59.        ,\n",
       "         60.        ,  61.        ,  62.        ,  63.        ,\n",
       "         64.        ,  65.        ,  66.        ,  67.        ,\n",
       "         68.        ,  69.        ,  70.        ,  71.        ,\n",
       "         72.        ,  73.        ,  74.        ,  75.        ,\n",
       "         76.        ,  77.        ,  78.        ,  79.        ,\n",
       "         80.        ,  81.        ,  82.        ,  83.        ,\n",
       "         84.        ,  85.        ,  86.        ,  87.        ,\n",
       "         88.        ,  89.        ,  90.        ,  91.        ,\n",
       "         92.        ,  93.        ,  94.        ,  95.        ,\n",
       "         96.        ,  97.        ,  98.        ,  99.        ,\n",
       "        100.        , 101.        , 102.        , 103.        ,\n",
       "        104.        , 105.        , 106.        , 107.        ,\n",
       "        108.        , 109.        , 110.        , 111.        ,\n",
       "        112.        , 113.        , 114.        , 115.        ,\n",
       "        116.        , 117.        , 118.        , 119.        ,\n",
       "        120.        , 121.        , 122.        , 123.        ,\n",
       "        124.        , 125.        , 126.        , 127.        ,\n",
       "        128.        , 129.        , 130.        , 131.        ,\n",
       "        132.        , 133.        , 134.        , 135.        ,\n",
       "        136.        , 137.        , 138.        , 139.        ,\n",
       "        140.        , 141.        , 142.        , 143.        ,\n",
       "        144.        , 145.        , 146.        , 147.        ,\n",
       "        148.        , 149.        , 150.        , 151.        ,\n",
       "        152.        , 153.        , 154.        , 155.        ,\n",
       "        156.        , 157.        , 158.        , 159.        ,\n",
       "        160.        , 161.        , 162.        , 163.        ,\n",
       "        164.        , 165.        , 166.        , 167.        ,\n",
       "        168.        , 169.        , 170.        , 171.        ,\n",
       "        172.        , 173.        , 174.        , 175.        ,\n",
       "        176.        , 177.        , 178.        , 179.        ,\n",
       "        180.        , 181.        , 182.        , 183.        ,\n",
       "        184.        , 185.        , 186.        , 187.        ,\n",
       "        188.        , 189.        , 190.        , 191.        ,\n",
       "        192.        , 193.        , 194.        , 195.        ,\n",
       "        196.        , 197.        , 198.        , 199.        ,\n",
       "        200.        , 201.        , 202.        , 203.        ,\n",
       "        204.        , 205.        , 206.        , 207.        ,\n",
       "        208.        , 209.        , 210.        , 211.        ,\n",
       "        212.        , 213.        , 214.        , 215.        ,\n",
       "        216.        , 217.        , 218.        , 219.        ,\n",
       "        220.        , 221.        , 222.        , 223.        ,\n",
       "        224.        , 225.        , 226.        , 227.        ,\n",
       "        228.        , 229.        , 230.        , 231.        ,\n",
       "        232.        , 233.        , 234.        , 235.        ,\n",
       "        236.        , 237.        , 238.        , 239.        ,\n",
       "        240.        , 241.        , 242.        , 243.        ,\n",
       "        244.        , 245.        , 246.        , 247.        ,\n",
       "        248.        , 249.        , 250.        , 251.        ,\n",
       "        252.        , 253.        , 254.        , 255.        ,\n",
       "        256.        , 257.        , 258.        , 259.        ,\n",
       "        260.        , 261.        , 262.        , 263.        ,\n",
       "        264.        , 265.        , 266.        , 267.        ,\n",
       "        268.        , 269.        , 270.        , 271.        ,\n",
       "        272.        , 273.        , 274.        , 275.        ,\n",
       "        276.        , 277.        , 278.        , 279.        ,\n",
       "        280.        , 281.        , 282.        , 283.        ,\n",
       "        284.        , 285.        , 286.        , 287.        ,\n",
       "        288.        , 289.        , 290.        , 291.        ,\n",
       "        292.        , 293.        , 294.        , 295.        ,\n",
       "        296.        , 297.        , 298.        , 299.        ,\n",
       "        300.        , 301.        , 302.        , 303.        ,\n",
       "        304.        , 305.        , 306.        , 307.        ,\n",
       "        308.        , 309.        , 310.        , 311.        ,\n",
       "        312.        , 313.        , 314.        , 315.        ,\n",
       "        316.        , 317.        , 318.        , 319.        ,\n",
       "        320.        , 321.        , 322.        , 323.        ,\n",
       "        324.        , 325.        , 326.        , 327.        ,\n",
       "        328.        , 329.        , 330.        , 331.        ,\n",
       "        332.        , 333.        , 334.        , 335.        ,\n",
       "        336.        , 337.        , 338.        , 339.        ,\n",
       "        340.        , 341.        , 342.        , 343.        ,\n",
       "        344.        , 345.        , 346.        , 347.        ,\n",
       "        348.        , 349.        , 350.        , 351.        ,\n",
       "        352.        , 353.        , 354.        , 355.        ,\n",
       "        356.        , 357.        , 358.        , 359.        ,\n",
       "        360.        , 361.        , 362.        , 363.        ,\n",
       "        364.        , 365.        ],\n",
       "       [351.04425821, 351.80453858, 352.79738703, 354.01311646,\n",
       "        355.44203981, 357.07446999, 358.90071992, 360.91110251,\n",
       "        363.09593068, 365.44551736, 367.95017546, 370.6002179 ,\n",
       "        373.38595759, 376.29770746, 379.32578043, 382.46048941,\n",
       "        385.69214732, 389.01106708, 392.40756161, 395.87194382,\n",
       "        399.39452664, 402.96562298, 406.57554576, 410.21460791,\n",
       "        413.87312233, 417.54140195, 421.20975968, 424.86850845,\n",
       "        428.50796117, 432.11843076, 435.69023013, 439.21367222,\n",
       "        442.67906993, 446.07673618, 449.3969839 , 452.63012599,\n",
       "        455.76647539, 458.796345  , 461.71004775, 464.49789655,\n",
       "        467.15020432, 469.65728399, 472.00944846, 474.19701066,\n",
       "        476.21028351, 478.03957992, 479.67521281, 481.10749511,\n",
       "        482.32673972, 483.32325958, 484.08736758, 484.60937667,\n",
       "        484.87959974, 484.88834973, 484.62593955, 484.08268211,\n",
       "        483.24889035, 482.11487716, 480.67095548, 478.90743822,\n",
       "        476.81463831, 474.38288338, 471.60749434, 468.49603224,\n",
       "        465.05789928, 461.30249767, 457.23922962, 452.87749733,\n",
       "        448.22670301, 443.29624887, 438.09553711, 432.63396995,\n",
       "        426.92094959, 420.96587825, 414.77815812, 408.36719141,\n",
       "        401.74238034, 394.91312711, 387.88883392, 380.67890299,\n",
       "        373.29273653, 365.73973674, 358.02930583, 350.170846  ,\n",
       "        342.17375947, 334.04744844, 325.80131512, 317.44476172,\n",
       "        308.98719044, 300.4380035 , 291.8066031 , 283.10239145,\n",
       "        274.33506543, 265.51688674, 256.66143768, 247.78231145,\n",
       "        238.89310126, 230.00740033, 221.13880185, 212.30089905,\n",
       "        203.50728512, 194.77155328, 186.10729674, 177.52810871,\n",
       "        169.04758239, 160.679311  , 152.43688774, 144.33390583,\n",
       "        136.38395847, 128.60063887, 120.99754024, 113.58825579,\n",
       "        106.38637872,  99.40550226,  92.65921961,  86.16112397,\n",
       "         79.92480855,  73.96386658,  68.29189124,  62.92247576,\n",
       "         57.86921334,  53.14569719,  48.76535611,  44.7317541 ,\n",
       "         41.03316473,  37.65654626,  34.58885696,  31.81705509,\n",
       "         29.32809892,  27.1089467 ,  25.14655672,  23.42788722,\n",
       "         21.93989647,  20.66954274,  19.60378429,  18.72957939,\n",
       "         18.0338863 ,  17.50366329,  17.12586861,  16.88746053,\n",
       "         16.77539733,  16.77663725,  16.87813857,  17.06685955,\n",
       "         17.32975845,  17.65379355,  18.02592309,  18.43310535,\n",
       "         18.8622986 ,  19.30046109,  19.73455109,  20.15152686,\n",
       "         20.53834667,  20.88387799,  21.18680399,  21.44895351,\n",
       "         21.67215682,  21.8582442 ,  22.00904592,  22.12639225,\n",
       "         22.21211349,  22.26803988,  22.29600173,  22.29782928,\n",
       "         22.27535284,  22.23040265,  22.16480901,  22.08040219,\n",
       "         21.97901246,  21.8624701 ,  21.73260537,  21.59124857,\n",
       "         21.44022995,  21.2813798 ,  21.1165284 ,  20.94750601,\n",
       "         20.77614291,  20.60426937,  20.43371568,  20.2663121 ,\n",
       "         20.10388892,  19.94827639,  19.80130481,  19.66476499,\n",
       "         19.53954009,  19.42560567,  19.32289782,  19.23135261,\n",
       "         19.15090613,  19.08149447,  19.0230537 ,  18.97551991,\n",
       "         18.93882919,  18.91291762,  18.89772128,  18.89317626,\n",
       "         18.89921864,  18.9157845 ,  18.94280993,  18.98023101,\n",
       "         19.02798383,  19.08600447,  19.15422901,  19.23259354,\n",
       "         19.32103414,  19.41948689,  19.52788788,  19.6461732 ,\n",
       "         19.77427892,  19.91214113,  20.05969592,  20.21687936,\n",
       "         20.38362754,  20.55987655,  20.74556247,  20.94062138,\n",
       "         21.14498937,  21.35860252,  21.58139691,  21.81330863,\n",
       "         22.05427377,  22.3042284 ,  22.56310861,  22.83085048,\n",
       "         23.1073901 ,  23.39266355,  23.68660692,  23.98915628,\n",
       "         24.30024773,  24.61981734,  24.9478012 ,  25.2841354 ,\n",
       "         25.62875602,  25.98159913,  26.34260084,  26.71169721,\n",
       "         27.08882433,  27.4739183 ,  27.86691518,  28.26775106,\n",
       "         28.67636204,  29.09268419,  29.51665359,  29.94820633,\n",
       "         30.3872785 ,  30.83380618,  31.28772544,  31.74897238,\n",
       "         32.21748308,  32.69319362,  33.17604009,  33.66595857,\n",
       "         34.16288514,  34.66675589,  35.17750691,  35.69507427,\n",
       "         36.21939405,  36.75040235,  37.28803525,  37.83222883,\n",
       "         38.38291917,  38.94004237,  39.50353449,  40.07333163,\n",
       "         40.64936987,  41.23158529,  41.81991399,  42.41429203,\n",
       "         43.01465551,  43.6209405 ,  44.2330831 ,  44.85101939,\n",
       "         45.47468545,  46.10401736,  46.73895324,  47.3796774 ,\n",
       "         48.02685228,  48.68119524,  49.34342366,  50.01425491,\n",
       "         50.69440636,  51.38459538,  52.08553935,  52.79795563,\n",
       "         53.52256159,  54.26007461,  55.01121206,  55.77669131,\n",
       "         56.55722972,  57.35354468,  58.16635356,  58.99637371,\n",
       "         59.84432253,  60.71091737,  61.59687561,  62.50291461,\n",
       "         63.42975176,  64.37810442,  65.34868997,  66.34222577,\n",
       "         67.35942919,  68.40101761,  69.4677084 ,  70.56021893,\n",
       "         71.67926658,  72.8255687 ,  73.99984268,  75.20280588,\n",
       "         76.43517568,  77.69766945,  78.99100455,  80.31589837,\n",
       "         81.67306827,  83.06323162,  84.48710579,  85.94540816,\n",
       "         87.4388561 ,  88.96816697,  90.53405816,  92.13724702,\n",
       "         93.77845094,  95.45838728,  97.17777341,  98.93732671,\n",
       "        100.73776455, 102.57980429, 104.46416331, 106.39155899,\n",
       "        108.36270869, 110.37832978, 112.43913963, 114.54585562,\n",
       "        116.69919512, 118.8998755 , 121.14861413, 123.4464688 ,\n",
       "        125.80651591, 128.25677536, 130.82620122, 133.54374757,\n",
       "        136.43836846, 139.53901797, 142.87465016, 146.47421909,\n",
       "        150.36667883, 154.58098345, 159.14608702, 164.09094359,\n",
       "        169.44450724, 175.23573204, 181.49357204, 188.24698132,\n",
       "        195.52491394, 203.35632397, 211.77016547, 220.79539251,\n",
       "        230.46095916, 240.79581948, 251.82892754, 263.58923741,\n",
       "        276.10570314, 289.40727882, 303.52291849, 318.48157624,\n",
       "        334.31220612, 351.04425821]])"
      ]
     },
     "execution_count": 108,
     "metadata": {},
     "output_type": "execute_result"
    }
   ],
   "source": [
    "mld"
   ]
  },
  {
   "cell_type": "code",
   "execution_count": 109,
   "metadata": {},
   "outputs": [
    {
     "data": {
      "text/plain": [
       "(2, 366)"
      ]
     },
     "execution_count": 109,
     "metadata": {},
     "output_type": "execute_result"
    }
   ],
   "source": [
    "mld.shape"
   ]
  },
  {
   "cell_type": "markdown",
   "metadata": {},
   "source": [
    "### plot of mld acoding the days"
   ]
  },
  {
   "cell_type": "code",
   "execution_count": 110,
   "metadata": {},
   "outputs": [
    {
     "data": {
      "image/png": "[encoded data removed]",
      "text/plain": [
       "<Figure size 432x288 with 1 Axes>"
      ]
     },
     "metadata": {
      "needs_background": "light"
     },
     "output_type": "display_data"
    }
   ],
   "source": [
    "#plt.plot(mld[0,:],-mld[1,:])\n",
    "plt.plot(mld[0,:],mld[1,:])\n",
    "#plt.plot(mld[0],mld[1])\n",
    "plt.xlabel('Days')\n",
    "plt.ylabel('mld')\n",
    "plt.grid(True)\n",
    "plt.show()"
   ]
  },
  {
   "cell_type": "code",
   "execution_count": 72,
   "metadata": {},
   "outputs": [],
   "source": [
    "par=np.loadtxt('par.dat',delimiter=\" \")"
   ]
  },
  {
   "cell_type": "code",
   "execution_count": 73,
   "metadata": {},
   "outputs": [
    {
     "data": {
      "text/plain": [
       "(2, 366)"
      ]
     },
     "execution_count": 73,
     "metadata": {},
     "output_type": "execute_result"
    }
   ],
   "source": [
    "par.shape"
   ]
  },
  {
   "cell_type": "code",
   "execution_count": 81,
   "metadata": {},
   "outputs": [
    {
     "data": {
      "image/png": "[encoded data removed]",
      "text/plain": [
       "<Figure size 432x288 with 1 Axes>"
      ]
     },
     "metadata": {
      "needs_background": "light"
     },
     "output_type": "display_data"
    }
   ],
   "source": [
    "plt.plot(par[0,:],par[1,:])\n",
    "plt.xlabel('Days')\n",
    "plt.ylabel('par')\n",
    "plt.show()"
   ]
  },
  {
   "cell_type": "code",
   "execution_count": 62,
   "metadata": {},
   "outputs": [],
   "source": [
    "sst=np.loadtxt('sst.dat',delimiter=\" \")"
   ]
  },
  {
   "cell_type": "code",
   "execution_count": 63,
   "metadata": {},
   "outputs": [
    {
     "data": {
      "text/plain": [
       "(2, 366)"
      ]
     },
     "execution_count": 63,
     "metadata": {},
     "output_type": "execute_result"
    }
   ],
   "source": [
    "sst.shape"
   ]
  },
  {
   "cell_type": "code",
   "execution_count": 84,
   "metadata": {},
   "outputs": [
    {
     "data": {
      "text/plain": [
       "array([  0.,   1.,   2.,   3.,   4.,   5.,   6.,   7.,   8.,   9.,  10.,\n",
       "        11.,  12.,  13.,  14.,  15.,  16.,  17.,  18.,  19.,  20.,  21.,\n",
       "        22.,  23.,  24.,  25.,  26.,  27.,  28.,  29.,  30.,  31.,  32.,\n",
       "        33.,  34.,  35.,  36.,  37.,  38.,  39.,  40.,  41.,  42.,  43.,\n",
       "        44.,  45.,  46.,  47.,  48.,  49.,  50.,  51.,  52.,  53.,  54.,\n",
       "        55.,  56.,  57.,  58.,  59.,  60.,  61.,  62.,  63.,  64.,  65.,\n",
       "        66.,  67.,  68.,  69.,  70.,  71.,  72.,  73.,  74.,  75.,  76.,\n",
       "        77.,  78.,  79.,  80.,  81.,  82.,  83.,  84.,  85.,  86.,  87.,\n",
       "        88.,  89.,  90.,  91.,  92.,  93.,  94.,  95.,  96.,  97.,  98.,\n",
       "        99., 100., 101., 102., 103., 104., 105., 106., 107., 108., 109.,\n",
       "       110., 111., 112., 113., 114., 115., 116., 117., 118., 119., 120.,\n",
       "       121., 122., 123., 124., 125., 126., 127., 128., 129., 130., 131.,\n",
       "       132., 133., 134., 135., 136., 137., 138., 139., 140., 141., 142.,\n",
       "       143., 144., 145., 146., 147., 148., 149., 150., 151., 152., 153.,\n",
       "       154., 155., 156., 157., 158., 159., 160., 161., 162., 163., 164.,\n",
       "       165., 166., 167., 168., 169., 170., 171., 172., 173., 174., 175.,\n",
       "       176., 177., 178., 179., 180., 181., 182., 183., 184., 185., 186.,\n",
       "       187., 188., 189., 190., 191., 192., 193., 194., 195., 196., 197.,\n",
       "       198., 199., 200., 201., 202., 203., 204., 205., 206., 207., 208.,\n",
       "       209., 210., 211., 212., 213., 214., 215., 216., 217., 218., 219.,\n",
       "       220., 221., 222., 223., 224., 225., 226., 227., 228., 229., 230.,\n",
       "       231., 232., 233., 234., 235., 236., 237., 238., 239., 240., 241.,\n",
       "       242., 243., 244., 245., 246., 247., 248., 249., 250., 251., 252.,\n",
       "       253., 254., 255., 256., 257., 258., 259., 260., 261., 262., 263.,\n",
       "       264., 265., 266., 267., 268., 269., 270., 271., 272., 273., 274.,\n",
       "       275., 276., 277., 278., 279., 280., 281., 282., 283., 284., 285.,\n",
       "       286., 287., 288., 289., 290., 291., 292., 293., 294., 295., 296.,\n",
       "       297., 298., 299., 300., 301., 302., 303., 304., 305., 306., 307.,\n",
       "       308., 309., 310., 311., 312., 313., 314., 315., 316., 317., 318.,\n",
       "       319., 320., 321., 322., 323., 324., 325., 326., 327., 328., 329.,\n",
       "       330., 331., 332., 333., 334., 335., 336., 337., 338., 339., 340.,\n",
       "       341., 342., 343., 344., 345., 346., 347., 348., 349., 350., 351.,\n",
       "       352., 353., 354., 355., 356., 357., 358., 359., 360., 361., 362.,\n",
       "       363., 364., 365.])"
      ]
     },
     "execution_count": 84,
     "metadata": {},
     "output_type": "execute_result"
    }
   ],
   "source": [
    "sst[0,:]"
   ]
  },
  {
   "cell_type": "code",
   "execution_count": 83,
   "metadata": {},
   "outputs": [
    {
     "data": {
      "text/plain": [
       "array([  0.,   1.,   2.,   3.,   4.,   5.,   6.,   7.,   8.,   9.,  10.,\n",
       "        11.,  12.,  13.,  14.,  15.,  16.,  17.,  18.,  19.,  20.,  21.,\n",
       "        22.,  23.,  24.,  25.,  26.,  27.,  28.,  29.,  30.,  31.,  32.,\n",
       "        33.,  34.,  35.,  36.,  37.,  38.,  39.,  40.,  41.,  42.,  43.,\n",
       "        44.,  45.,  46.,  47.,  48.,  49.,  50.,  51.,  52.,  53.,  54.,\n",
       "        55.,  56.,  57.,  58.,  59.,  60.,  61.,  62.,  63.,  64.,  65.,\n",
       "        66.,  67.,  68.,  69.,  70.,  71.,  72.,  73.,  74.,  75.,  76.,\n",
       "        77.,  78.,  79.,  80.,  81.,  82.,  83.,  84.,  85.,  86.,  87.,\n",
       "        88.,  89.,  90.,  91.,  92.,  93.,  94.,  95.,  96.,  97.,  98.,\n",
       "        99., 100., 101., 102., 103., 104., 105., 106., 107., 108., 109.,\n",
       "       110., 111., 112., 113., 114., 115., 116., 117., 118., 119., 120.,\n",
       "       121., 122., 123., 124., 125., 126., 127., 128., 129., 130., 131.,\n",
       "       132., 133., 134., 135., 136., 137., 138., 139., 140., 141., 142.,\n",
       "       143., 144., 145., 146., 147., 148., 149., 150., 151., 152., 153.,\n",
       "       154., 155., 156., 157., 158., 159., 160., 161., 162., 163., 164.,\n",
       "       165., 166., 167., 168., 169., 170., 171., 172., 173., 174., 175.,\n",
       "       176., 177., 178., 179., 180., 181., 182., 183., 184., 185., 186.,\n",
       "       187., 188., 189., 190., 191., 192., 193., 194., 195., 196., 197.,\n",
       "       198., 199., 200., 201., 202., 203., 204., 205., 206., 207., 208.,\n",
       "       209., 210., 211., 212., 213., 214., 215., 216., 217., 218., 219.,\n",
       "       220., 221., 222., 223., 224., 225., 226., 227., 228., 229., 230.,\n",
       "       231., 232., 233., 234., 235., 236., 237., 238., 239., 240., 241.,\n",
       "       242., 243., 244., 245., 246., 247., 248., 249., 250., 251., 252.,\n",
       "       253., 254., 255., 256., 257., 258., 259., 260., 261., 262., 263.,\n",
       "       264., 265., 266., 267., 268., 269., 270., 271., 272., 273., 274.,\n",
       "       275., 276., 277., 278., 279., 280., 281., 282., 283., 284., 285.,\n",
       "       286., 287., 288., 289., 290., 291., 292., 293., 294., 295., 296.,\n",
       "       297., 298., 299., 300., 301., 302., 303., 304., 305., 306., 307.,\n",
       "       308., 309., 310., 311., 312., 313., 314., 315., 316., 317., 318.,\n",
       "       319., 320., 321., 322., 323., 324., 325., 326., 327., 328., 329.,\n",
       "       330., 331., 332., 333., 334., 335., 336., 337., 338., 339., 340.,\n",
       "       341., 342., 343., 344., 345., 346., 347., 348., 349., 350., 351.,\n",
       "       352., 353., 354., 355., 356., 357., 358., 359., 360., 361., 362.,\n",
       "       363., 364., 365.])"
      ]
     },
     "execution_count": 83,
     "metadata": {},
     "output_type": "execute_result"
    }
   ],
   "source": [
    "sst[0]"
   ]
  },
  {
   "cell_type": "code",
   "execution_count": 80,
   "metadata": {},
   "outputs": [
    {
     "data": {
      "image/png": "[encoded data removed]",
      "text/plain": [
       "<Figure size 432x288 with 1 Axes>"
      ]
     },
     "metadata": {
      "needs_background": "light"
     },
     "output_type": "display_data"
    }
   ],
   "source": [
    "plt.plot(sst[0,:],sst[1,:])\n",
    "plt.xlabel('Days')\n",
    "plt.ylabel('sst')\n",
    "plt.show()"
   ]
  },
  {
   "cell_type": "code",
   "execution_count": 86,
   "metadata": {},
   "outputs": [],
   "source": [
    "from scipy.integrate import odeint"
   ]
  },
  {
   "cell_type": "code",
   "execution_count": 88,
   "metadata": {},
   "outputs": [
    {
     "data": {
      "text/plain": [
       "array([351.04425821, 351.80453858, 352.79738703, 354.01311646,\n",
       "       355.44203981, 357.07446999, 358.90071992, 360.91110251,\n",
       "       363.09593068, 365.44551736, 367.95017546, 370.6002179 ,\n",
       "       373.38595759, 376.29770746, 379.32578043, 382.46048941,\n",
       "       385.69214732, 389.01106708, 392.40756161, 395.87194382,\n",
       "       399.39452664, 402.96562298, 406.57554576, 410.21460791,\n",
       "       413.87312233, 417.54140195, 421.20975968, 424.86850845,\n",
       "       428.50796117, 432.11843076, 435.69023013, 439.21367222,\n",
       "       442.67906993, 446.07673618, 449.3969839 , 452.63012599,\n",
       "       455.76647539, 458.796345  , 461.71004775, 464.49789655,\n",
       "       467.15020432, 469.65728399, 472.00944846, 474.19701066,\n",
       "       476.21028351, 478.03957992, 479.67521281, 481.10749511,\n",
       "       482.32673972, 483.32325958, 484.08736758, 484.60937667,\n",
       "       484.87959974, 484.88834973, 484.62593955, 484.08268211,\n",
       "       483.24889035, 482.11487716, 480.67095548, 478.90743822,\n",
       "       476.81463831, 474.38288338, 471.60749434, 468.49603224,\n",
       "       465.05789928, 461.30249767, 457.23922962, 452.87749733,\n",
       "       448.22670301, 443.29624887, 438.09553711, 432.63396995,\n",
       "       426.92094959, 420.96587825, 414.77815812, 408.36719141,\n",
       "       401.74238034, 394.91312711, 387.88883392, 380.67890299,\n",
       "       373.29273653, 365.73973674, 358.02930583, 350.170846  ,\n",
       "       342.17375947, 334.04744844, 325.80131512, 317.44476172,\n",
       "       308.98719044, 300.4380035 , 291.8066031 , 283.10239145,\n",
       "       274.33506543, 265.51688674, 256.66143768, 247.78231145,\n",
       "       238.89310126, 230.00740033, 221.13880185, 212.30089905,\n",
       "       203.50728512, 194.77155328, 186.10729674, 177.52810871,\n",
       "       169.04758239, 160.679311  , 152.43688774, 144.33390583,\n",
       "       136.38395847, 128.60063887, 120.99754024, 113.58825579,\n",
       "       106.38637872,  99.40550226,  92.65921961,  86.16112397,\n",
       "        79.92480855,  73.96386658,  68.29189124,  62.92247576,\n",
       "        57.86921334,  53.14569719,  48.76535611,  44.7317541 ,\n",
       "        41.03316473,  37.65654626,  34.58885696,  31.81705509,\n",
       "        29.32809892,  27.1089467 ,  25.14655672,  23.42788722,\n",
       "        21.93989647,  20.66954274,  19.60378429,  18.72957939,\n",
       "        18.0338863 ,  17.50366329,  17.12586861,  16.88746053,\n",
       "        16.77539733,  16.77663725,  16.87813857,  17.06685955,\n",
       "        17.32975845,  17.65379355,  18.02592309,  18.43310535,\n",
       "        18.8622986 ,  19.30046109,  19.73455109,  20.15152686,\n",
       "        20.53834667,  20.88387799,  21.18680399,  21.44895351,\n",
       "        21.67215682,  21.8582442 ,  22.00904592,  22.12639225,\n",
       "        22.21211349,  22.26803988,  22.29600173,  22.29782928,\n",
       "        22.27535284,  22.23040265,  22.16480901,  22.08040219,\n",
       "        21.97901246,  21.8624701 ,  21.73260537,  21.59124857,\n",
       "        21.44022995,  21.2813798 ,  21.1165284 ,  20.94750601,\n",
       "        20.77614291,  20.60426937,  20.43371568,  20.2663121 ,\n",
       "        20.10388892,  19.94827639,  19.80130481,  19.66476499,\n",
       "        19.53954009,  19.42560567,  19.32289782,  19.23135261,\n",
       "        19.15090613,  19.08149447,  19.0230537 ,  18.97551991,\n",
       "        18.93882919,  18.91291762,  18.89772128,  18.89317626,\n",
       "        18.89921864,  18.9157845 ,  18.94280993,  18.98023101,\n",
       "        19.02798383,  19.08600447,  19.15422901,  19.23259354,\n",
       "        19.32103414,  19.41948689,  19.52788788,  19.6461732 ,\n",
       "        19.77427892,  19.91214113,  20.05969592,  20.21687936,\n",
       "        20.38362754,  20.55987655,  20.74556247,  20.94062138,\n",
       "        21.14498937,  21.35860252,  21.58139691,  21.81330863,\n",
       "        22.05427377,  22.3042284 ,  22.56310861,  22.83085048,\n",
       "        23.1073901 ,  23.39266355,  23.68660692,  23.98915628,\n",
       "        24.30024773,  24.61981734,  24.9478012 ,  25.2841354 ,\n",
       "        25.62875602,  25.98159913,  26.34260084,  26.71169721,\n",
       "        27.08882433,  27.4739183 ,  27.86691518,  28.26775106,\n",
       "        28.67636204,  29.09268419,  29.51665359,  29.94820633,\n",
       "        30.3872785 ,  30.83380618,  31.28772544,  31.74897238,\n",
       "        32.21748308,  32.69319362,  33.17604009,  33.66595857,\n",
       "        34.16288514,  34.66675589,  35.17750691,  35.69507427,\n",
       "        36.21939405,  36.75040235,  37.28803525,  37.83222883,\n",
       "        38.38291917,  38.94004237,  39.50353449,  40.07333163,\n",
       "        40.64936987,  41.23158529,  41.81991399,  42.41429203,\n",
       "        43.01465551,  43.6209405 ,  44.2330831 ,  44.85101939,\n",
       "        45.47468545,  46.10401736,  46.73895324,  47.3796774 ,\n",
       "        48.02685228,  48.68119524,  49.34342366,  50.01425491,\n",
       "        50.69440636,  51.38459538,  52.08553935,  52.79795563,\n",
       "        53.52256159,  54.26007461,  55.01121206,  55.77669131,\n",
       "        56.55722972,  57.35354468,  58.16635356,  58.99637371,\n",
       "        59.84432253,  60.71091737,  61.59687561,  62.50291461,\n",
       "        63.42975176,  64.37810442,  65.34868997,  66.34222577,\n",
       "        67.35942919,  68.40101761,  69.4677084 ,  70.56021893,\n",
       "        71.67926658,  72.8255687 ,  73.99984268,  75.20280588,\n",
       "        76.43517568,  77.69766945,  78.99100455,  80.31589837,\n",
       "        81.67306827,  83.06323162,  84.48710579,  85.94540816,\n",
       "        87.4388561 ,  88.96816697,  90.53405816,  92.13724702,\n",
       "        93.77845094,  95.45838728,  97.17777341,  98.93732671,\n",
       "       100.73776455, 102.57980429, 104.46416331, 106.39155899,\n",
       "       108.36270869, 110.37832978, 112.43913963, 114.54585562,\n",
       "       116.69919512, 118.8998755 , 121.14861413, 123.4464688 ,\n",
       "       125.80651591, 128.25677536, 130.82620122, 133.54374757,\n",
       "       136.43836846, 139.53901797, 142.87465016, 146.47421909,\n",
       "       150.36667883, 154.58098345, 159.14608702, 164.09094359,\n",
       "       169.44450724, 175.23573204, 181.49357204, 188.24698132,\n",
       "       195.52491394, 203.35632397, 211.77016547, 220.79539251,\n",
       "       230.46095916, 240.79581948, 251.82892754, 263.58923741,\n",
       "       276.10570314, 289.40727882, 303.52291849, 318.48157624,\n",
       "       334.31220612, 351.04425821])"
      ]
     },
     "execution_count": 88,
     "metadata": {},
     "output_type": "execute_result"
    }
   ],
   "source": [
    "data=mld[1]\n",
    "data"
   ]
  },
  {
   "cell_type": "code",
   "execution_count": 122,
   "metadata": {},
   "outputs": [
    {
     "data": {
      "image/png": "[encoded data removed]",
      "text/plain": [
       "<Figure size 432x288 with 3 Axes>"
      ]
     },
     "metadata": {
      "needs_background": "light"
     },
     "output_type": "display_data"
    }
   ],
   "source": [
    "ax1= plt.subplot (1 ,1 ,1) # create a first y- axis object\n",
    "ax1.plot(mld[0,:], mld[1,:],'--r',linewidth =3)\n",
    "# ax1.set_xlim (0 ,15)\n",
    "# ax1.set_ylim ( -2 ,2)\n",
    "# ax1.set_xlabel (’x’, fontsize =20)\n",
    "# ax1.set_ylabel (’sin (x)’, color =’red ’, fontsize =20)\n",
    "# ax1.tick_params ( axis =’y’, colors =’red ’)\n",
    "ax2= ax1 . twinx () # create a twin y- axis object sharing the x- axis\n",
    "ax2.plot (par[0,:], par[1,:], 'g',linewidth =3)\n",
    "\n",
    "ax3= ax2 . twinx () # create a twin y- axis object sharing the x- axis\n",
    "\n",
    "ax3.plot(sst[0,:], sst[1,:], 'y',linewidth =3)\n",
    "#ax2.set_ylabel (’cos (x)’, color =’blue ’, fontsize =20)\n",
    "#ax2.tick_params ( axis =’y’, colors =’blue ’)\n",
    "#ax2.set_ylim ( -4 ,4)\n",
    "#ax2.set_xlim (0 ,15)\n",
    "plt.show ()"
   ]
  },
  {
   "cell_type": "markdown",
   "metadata": {},
   "source": [
    "## Exercice 1.2"
   ]
  },
  {
   "cell_type": "code",
   "execution_count": 103,
   "metadata": {},
   "outputs": [],
   "source": [
    "mld = mld [1 ,:]\n",
    "ldiff = mld [365] - mld [364]\n",
    "dt = 1.0 # 1.0 is the time interval (1 day )\n",
    "dMdt = np. ediff1d (mld , to_end = ldiff )/dt"
   ]
  },
  {
   "cell_type": "code",
   "execution_count": null,
   "metadata": {},
   "outputs": [],
   "source": []
  }
 ],
 "metadata": {
  "kernelspec": {
   "display_name": "Python 3",
   "language": "python",
   "name": "python3"
  },
  "language_info": {
   "codemirror_mode": {
    "name": "ipython",
    "version": 3
   },
   "file_extension": ".py",
   "mimetype": "text/x-python",
   "name": "python",
   "nbconvert_exporter": "python",
   "pygments_lexer": "ipython3",
   "version": "3.7.0"
  }
 },
 "nbformat": 4,
 "nbformat_minor": 2
}
