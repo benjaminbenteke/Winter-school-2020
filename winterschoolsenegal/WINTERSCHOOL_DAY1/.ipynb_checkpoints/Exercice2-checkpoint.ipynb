{
 "cells": [
  {
   "cell_type": "markdown",
   "metadata": {},
   "source": [
    "# Benjamin Benteke Longau"
   ]
  },
  {
   "cell_type": "markdown",
   "metadata": {},
   "source": [
    "## Winter School 2020"
   ]
  },
  {
   "cell_type": "markdown",
   "metadata": {},
   "source": [
    "## Import Libraries"
   ]
  },
  {
   "cell_type": "code",
   "execution_count": 234,
   "metadata": {},
   "outputs": [],
   "source": [
    "import numpy as np\n",
    "import matplotlib.pyplot as plt\n",
    "from scipy.integrate import odeint"
   ]
  },
  {
   "cell_type": "markdown",
   "metadata": {},
   "source": [
    "## Exercice 1 "
   ]
  },
  {
   "cell_type": "markdown",
   "metadata": {},
   "source": [
    "### 1.1 Open the python interpreter and read the the Zen of Python ( > > > import this)"
   ]
  },
  {
   "cell_type": "code",
   "execution_count": null,
   "metadata": {},
   "outputs": [],
   "source": []
  },
  {
   "cell_type": "markdown",
   "metadata": {
    "colab": {},
    "colab_type": "code",
    "id": "svYmoxls87oZ"
   },
   "source": [
    "### 1.2 Create a list of five elements, select the first two elements of that list. Add the selected elements to the original list. Append the following element: \"Chilindrina\". Duplicate the list and count the number of elements!"
   ]
  },
  {
   "cell_type": "code",
   "execution_count": 280,
   "metadata": {},
   "outputs": [],
   "source": [
    "liste=['ben',25,30,'aims',10]"
   ]
  },
  {
   "cell_type": "code",
   "execution_count": 282,
   "metadata": {},
   "outputs": [
    {
     "data": {
      "text/plain": [
       "['ben', 25]"
      ]
     },
     "execution_count": 282,
     "metadata": {},
     "output_type": "execute_result"
    }
   ],
   "source": [
    "two=liste[:2]\n",
    "two"
   ]
  },
  {
   "cell_type": "code",
   "execution_count": 284,
   "metadata": {},
   "outputs": [],
   "source": [
    "liste.append(two)"
   ]
  },
  {
   "cell_type": "code",
   "execution_count": 285,
   "metadata": {},
   "outputs": [
    {
     "data": {
      "text/plain": [
       "['ben', 25, 30, 'aims', 10, ['ben', 25]]"
      ]
     },
     "execution_count": 285,
     "metadata": {},
     "output_type": "execute_result"
    }
   ],
   "source": [
    "liste"
   ]
  },
  {
   "cell_type": "code",
   "execution_count": 287,
   "metadata": {},
   "outputs": [],
   "source": [
    "liste.append('Chilindrina')"
   ]
  },
  {
   "cell_type": "code",
   "execution_count": 293,
   "metadata": {},
   "outputs": [
    {
     "data": {
      "text/plain": [
       "['ben', 25, 30, 'aims', 10, ['ben', 25], 'Chilindrina']"
      ]
     },
     "execution_count": 293,
     "metadata": {},
     "output_type": "execute_result"
    }
   ],
   "source": [
    "liste"
   ]
  },
  {
   "cell_type": "code",
   "execution_count": 300,
   "metadata": {},
   "outputs": [],
   "source": [
    "liste1=liste"
   ]
  },
  {
   "cell_type": "code",
   "execution_count": 301,
   "metadata": {},
   "outputs": [
    {
     "data": {
      "text/plain": [
       "7"
      ]
     },
     "execution_count": 301,
     "metadata": {},
     "output_type": "execute_result"
    }
   ],
   "source": [
    "len(liste1)"
   ]
  },
  {
   "cell_type": "markdown",
   "metadata": {},
   "source": [
    "### 1.3 Create an array of 16 elements, from 1 to 16. Reshape the array as a two dimensionalarray (2, 8). Calculate the sin for the first dimension and cosine for the second dimension. Plot the two dimensions"
   ]
  },
  {
   "cell_type": "markdown",
   "metadata": {},
   "source": [
    "### 1.4 Calculate a Fibonacci series of 20 elements using a while or a for loop."
   ]
  },
  {
   "cell_type": "code",
   "execution_count": 122,
   "metadata": {},
   "outputs": [],
   "source": [
    "a,b=0,1\n",
    "n=20\n",
    "liste=[0]\n",
    "m=len(liste)"
   ]
  },
  {
   "cell_type": "code",
   "execution_count": 123,
   "metadata": {},
   "outputs": [
    {
     "name": "stdout",
     "output_type": "stream",
     "text": [
      "[0, 1, 1, 2, 3, 5, 8, 13, 21, 34, 55, 89, 144, 233, 377, 610, 987, 1597, 2584, 4181]\n"
     ]
    }
   ],
   "source": [
    "while m<n:\n",
    "    liste.append(b)\n",
    "    a,b=b,a+b\n",
    "    m=len(liste)\n",
    "print(liste)"
   ]
  },
  {
   "cell_type": "markdown",
   "metadata": {},
   "source": [
    "### 1.5 Code the simple exponential decay model (L2, page 80), produce different solutionsusing different values for the time decay parameter, plot the results..."
   ]
  },
  {
   "cell_type": "code",
   "execution_count": 124,
   "metadata": {
    "colab": {},
    "colab_type": "code",
    "id": "XKkkcHbi9MCG"
   },
   "outputs": [],
   "source": [
    "def derivative(y,t):\n",
    "  dydt=-2*y\n",
    "  return dydt"
   ]
  },
  {
   "cell_type": "code",
   "execution_count": 125,
   "metadata": {
    "colab": {},
    "colab_type": "code",
    "id": "mJRaMnRc9xZz"
   },
   "outputs": [],
   "source": [
    "t=np.linspace(0,4.0,50)\n",
    "y0=1.0"
   ]
  },
  {
   "cell_type": "code",
   "execution_count": 126,
   "metadata": {
    "colab": {},
    "colab_type": "code",
    "id": "wISW9J1U98wM"
   },
   "outputs": [],
   "source": [
    "y=odeint(derivative,y0,t)"
   ]
  },
  {
   "cell_type": "code",
   "execution_count": 127,
   "metadata": {
    "colab": {
     "base_uri": "https://localhost:8080/",
     "height": 295
    },
    "colab_type": "code",
    "id": "AHtA32D2-HwT",
    "outputId": "03beaf2a-3853-4950-c1ae-6196734f5b91"
   },
   "outputs": [
    {
     "data": {
      "image/png": "[encoded data removed]",
      "text/plain": [
       "<Figure size 432x288 with 1 Axes>"
      ]
     },
     "metadata": {
      "needs_background": "light"
     },
     "output_type": "display_data"
    }
   ],
   "source": [
    "plt.plot(t,y)\n",
    "plt.title(\"my plot\")\n",
    "plt.xlabel('time')\n",
    "plt.ylabel('y')\n",
    "plt.grid(True)\n",
    "plt.show()"
   ]
  },
  {
   "cell_type": "markdown",
   "metadata": {},
   "source": [
    "## Exercice 2 (2.1,2.2,2.3 and 2.4) Branching model"
   ]
  },
  {
   "cell_type": "markdown",
   "metadata": {},
   "source": [
    "#### 2.1 Code the ’branching’ model, i.e.: dn(t)/dt = b · n(t) (L1, page 32)"
   ]
  },
  {
   "cell_type": "markdown",
   "metadata": {},
   "source": [
    "#### 2.2 Use an initial number of branches of n(t = 0) = 10.0 and a branching rate of b = 0.25 branches per day"
   ]
  },
  {
   "cell_type": "markdown",
   "metadata": {},
   "source": [
    "#### 2.3 Generate a solution n(t) over 101 evenly spaced time steps over 10 days"
   ]
  },
  {
   "cell_type": "markdown",
   "metadata": {},
   "source": [
    "#### 2.4 Plot the results."
   ]
  },
  {
   "cell_type": "code",
   "execution_count": 128,
   "metadata": {
    "colab": {},
    "colab_type": "code",
    "id": "fnucCQJJ-8mY"
   },
   "outputs": [],
   "source": [
    "b=0.25\n",
    "n0=10.0"
   ]
  },
  {
   "cell_type": "code",
   "execution_count": 129,
   "metadata": {
    "colab": {},
    "colab_type": "code",
    "id": "TQj8QFeo-XTc"
   },
   "outputs": [],
   "source": [
    "def deriv(n,t):\n",
    "  dndt=b*n\n",
    "  return dndt"
   ]
  },
  {
   "cell_type": "code",
   "execution_count": 130,
   "metadata": {
    "colab": {},
    "colab_type": "code",
    "id": "m5FrRD0J_GWM"
   },
   "outputs": [],
   "source": [
    "t=np.linspace(0,10,101)"
   ]
  },
  {
   "cell_type": "code",
   "execution_count": 131,
   "metadata": {
    "colab": {},
    "colab_type": "code",
    "id": "91ipHId__UbH"
   },
   "outputs": [],
   "source": [
    "n=odeint(deriv,n0,t)"
   ]
  },
  {
   "cell_type": "code",
   "execution_count": 132,
   "metadata": {
    "colab": {
     "base_uri": "https://localhost:8080/",
     "height": 295
    },
    "colab_type": "code",
    "id": "EWwb0QRZ_clL",
    "outputId": "6eac908c-76d8-4a7c-d57e-9affb1d8ce69"
   },
   "outputs": [
    {
     "data": {
      "image/png": "[encoded data removed]",
      "text/plain": [
       "<Figure size 432x288 with 1 Axes>"
      ]
     },
     "metadata": {
      "needs_background": "light"
     },
     "output_type": "display_data"
    }
   ],
   "source": [
    "plt.plot(t,n)\n",
    "plt.title(\"my plot\")\n",
    "plt.xlabel('time')\n",
    "plt.ylabel('y')\n",
    "plt.grid(True)\n",
    "plt.show()"
   ]
  },
  {
   "cell_type": "markdown",
   "metadata": {},
   "source": [
    "# Exercice 3: Cat and mouse model"
   ]
  },
  {
   "cell_type": "markdown",
   "metadata": {},
   "source": [
    "#### 3.1 Code the ’cat and mouse’ model, i.e.: dn(t)/dt = b · n(t) − d · n(t) + m (L1, page33)\n",
    "#### 3.2 Use an initial number of mice of n(t = 0) = 10.0, a birth rate of 2 mice every 8 days,a cat eats 1 mouse every 2 days, and 3 new mice migrate every 10 days from nearby yards\n",
    "#### 3.3 Generate a solution n(t) over 101 evenly spaced time steps over 10 days\n",
    "#### 3.4 Plot the results."
   ]
  },
  {
   "cell_type": "code",
   "execution_count": 239,
   "metadata": {
    "colab": {},
    "colab_type": "code",
    "id": "T6RrrTZl_iaT"
   },
   "outputs": [],
   "source": [
    "n0=10.0\n",
    "b=float(2/8)\n",
    "d=float(1/2)\n",
    "m=float(3/10)"
   ]
  },
  {
   "cell_type": "code",
   "execution_count": 240,
   "metadata": {
    "colab": {},
    "colab_type": "code",
    "id": "3PzfdZgDCZfW"
   },
   "outputs": [],
   "source": [
    "def der(n,t):\n",
    "  dndt=b*n-d*n+m\n",
    "  return dndt"
   ]
  },
  {
   "cell_type": "code",
   "execution_count": 241,
   "metadata": {
    "colab": {},
    "colab_type": "code",
    "id": "OPAvlvAAClCV"
   },
   "outputs": [],
   "source": [
    "t=np.linspace(0,10,101)"
   ]
  },
  {
   "cell_type": "code",
   "execution_count": 242,
   "metadata": {
    "colab": {},
    "colab_type": "code",
    "id": "FMkYqEkHDbv7"
   },
   "outputs": [],
   "source": [
    "n=odeint(der,n0,t)"
   ]
  },
  {
   "cell_type": "code",
   "execution_count": 244,
   "metadata": {
    "colab": {
     "base_uri": "https://localhost:8080/",
     "height": 295
    },
    "colab_type": "code",
    "id": "THpLerbLDgDa",
    "outputId": "72779b0b-1e2e-40dd-f18e-efe357d6e09c"
   },
   "outputs": [
    {
     "data": {
      "image/png": "[encoded data removed]",
      "text/plain": [
       "<Figure size 432x288 with 1 Axes>"
      ]
     },
     "metadata": {
      "needs_background": "light"
     },
     "output_type": "display_data"
    }
   ],
   "source": [
    "plt.plot(t,n,'r')\n",
    "plt.title(\"my plot\")\n",
    "plt.xlabel('time')\n",
    "plt.ylabel('y')\n",
    "plt.grid(True)\n",
    "plt.show()"
   ]
  },
  {
   "cell_type": "markdown",
   "metadata": {
    "colab": {},
    "colab_type": "code",
    "id": "leLUhR1CDjuG"
   },
   "source": [
    "## Exercice 4: Flu model"
   ]
  },
  {
   "cell_type": "markdown",
   "metadata": {},
   "source": [
    "#### 4.1 Code the ’flu’ model, i.e.: ds(t)/dt = −a·c·n(t)·s(t) and dn(t)/dt = +a·c·s(t)·n(t)(L1 page 34)\n",
    "#### 4.2 In python considering: 10 contacts between carrier and healthy individuals every day and a 2.5 % probability that the flu is transmitted at every contact\n",
    "#### 4.3 Use an initial number of healthy individuals of s(t = 0) = 95.0, an initial number ofcarriers of n(t = 0) = 5.0\n",
    "#### 4.4 Generate a solution over 101 evenly spaced time steps over 10 days\n",
    "#### 4.5 Plot the results\n",
    "#### 4.6 Plot both s(t) and n(t) and s(t) + n(t) (i.e. the total number of individuals) in the same panel; after how many days does the model reach steady-state?"
   ]
  },
  {
   "cell_type": "code",
   "execution_count": 268,
   "metadata": {},
   "outputs": [],
   "source": [
    "c=10\n",
    "a=0.025\n",
    "s0=95.0\n",
    "n0=5.0\n",
    "t=np.linspace(0,10,101)\n",
    "#p0=[s0,n0]"
   ]
  },
  {
   "cell_type": "code",
   "execution_count": 269,
   "metadata": {
    "colab": {},
    "colab_type": "code",
    "id": "oLj9cZ_bE5at"
   },
   "outputs": [],
   "source": [
    "# def derive(s,n,t):\n",
    "#     dsdt,dndt=-a*c*n*s,a*c*s*n\n",
    "#     dpdt=[dsdt,dndt]\n",
    "#     return dpdt"
   ]
  },
  {
   "cell_type": "code",
   "execution_count": 270,
   "metadata": {},
   "outputs": [],
   "source": [
    "def flu1(s,n):\n",
    "    dsdt=-a*c*n*s\n",
    "    return dsdt"
   ]
  },
  {
   "cell_type": "code",
   "execution_count": 274,
   "metadata": {},
   "outputs": [],
   "source": [
    "def flu2(s,n):\n",
    "    dndt=a*c*n*s\n",
    "    return dndt"
   ]
  },
  {
   "cell_type": "code",
   "execution_count": 275,
   "metadata": {},
   "outputs": [],
   "source": [
    "s=odeint(flu1,s0,t)\n",
    "n=odeint(flu2,n0,t)"
   ]
  },
  {
   "cell_type": "code",
   "execution_count": 277,
   "metadata": {},
   "outputs": [
    {
     "data": {
      "image/png": "[encoded data removed]",
      "text/plain": [
       "<Figure size 432x288 with 1 Axes>"
      ]
     },
     "metadata": {
      "needs_background": "light"
     },
     "output_type": "display_data"
    }
   ],
   "source": [
    "plt.plot(t,s,'r')\n",
    "plt.title(\"my plot\")\n",
    "plt.xlabel('time')\n",
    "plt.ylabel('y')\n",
    "plt.grid(True)\n",
    "plt.show()"
   ]
  },
  {
   "cell_type": "code",
   "execution_count": 279,
   "metadata": {},
   "outputs": [
    {
     "data": {
      "image/png": "[encoded data removed]",
      "text/plain": [
       "<Figure size 432x288 with 1 Axes>"
      ]
     },
     "metadata": {
      "needs_background": "light"
     },
     "output_type": "display_data"
    }
   ],
   "source": [
    "plt.plot(t,n,'b')\n",
    "plt.title(\"my plot\")\n",
    "plt.xlabel('time')\n",
    "plt.ylabel('y')\n",
    "plt.grid(True)\n",
    "plt.show()"
   ]
  },
  {
   "cell_type": "code",
   "execution_count": null,
   "metadata": {},
   "outputs": [],
   "source": []
  }
 ],
 "metadata": {
  "colab": {
   "collapsed_sections": [],
   "name": "Exercice2.ipynb",
   "provenance": []
  },
  "kernelspec": {
   "display_name": "Python 3",
   "language": "python",
   "name": "python3"
  },
  "language_info": {
   "codemirror_mode": {
    "name": "ipython",
    "version": 3
   },
   "file_extension": ".py",
   "mimetype": "text/x-python",
   "name": "python",
   "nbconvert_exporter": "python",
   "pygments_lexer": "ipython3",
   "version": "3.7.0"
  }
 },
 "nbformat": 4,
 "nbformat_minor": 1
}
